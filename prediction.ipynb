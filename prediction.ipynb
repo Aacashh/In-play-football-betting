{
  "nbformat": 4,
  "nbformat_minor": 5,
  "metadata": {
    "selected_hardware_size": "small",
    "noteable": {
      "last_transaction_id": "fcabe08e-5745-4e94-bcf7-3ac61f6f1c18"
    }
  },
  "cells": [
    {
      "id": "ef4fc181",
      "cell_type": "code",
      "metadata": {
        "noteable": {
          "output_collection_id": "f8250e79-849e-4e2f-8712-a195e2434fe4"
        },
        "ExecuteTime": {
          "end_time": "2023-07-10T08:58:47.643375+00:00",
          "start_time": "2023-07-10T08:58:47.485010+00:00"
        }
      },
      "execution_count": null,
      "source": "import pandas as pd\nimport joblib\nfrom sklearn.model_selection import train_test_split\n",
      "outputs": []
    },
    {
      "id": "3b8cb95d-758e-4b40-b69f-99e6f327e90a",
      "cell_type": "code",
      "metadata": {
        "jupyter": {
          "outputs_hidden": false,
          "source_hidden": false
        },
        "noteable": {
          "cell_type": "code",
          "output_collection_id": "fe920375-a7e0-416f-ae32-3f175144098d"
        },
        "ExecuteTime": {
          "end_time": "2023-07-10T08:58:47.848755+00:00",
          "start_time": "2023-07-10T08:58:47.688562+00:00"
        },
        "datalink": {
          "87727587-2077-49e3-bc68-bfcbe7cabbe8": {
            "applied_filters": [],
            "dataframe_info": {
              "default_index_used": true,
              "orig_num_cols": 10,
              "orig_num_rows": 1520,
              "orig_size_bytes": 133760,
              "truncated_num_cols": 10,
              "truncated_num_rows": 1520,
              "truncated_size_bytes": 133760,
              "truncated_string_columns": []
            },
            "display_id": "87727587-2077-49e3-bc68-bfcbe7cabbe8",
            "dx_settings": {
              "ALLOW_NOTEABLE_ATTRS": true,
              "COLUMN_SAMPLING_METHOD": "outer",
              "DB_LOCATION": ":memory:",
              "DEV_MODE": false,
              "DISPLAY_MAX_COLUMNS": 100,
              "DISPLAY_MAX_ROWS": 50000,
              "DISPLAY_MODE": "simple",
              "ENABLE_ASSIGNMENT": true,
              "ENABLE_DATALINK": true,
              "FLATTEN_COLUMN_VALUES": true,
              "FLATTEN_INDEX_VALUES": false,
              "GENERATE_DEX_METADATA": false,
              "HTML_TABLE_SCHEMA": false,
              "LOG_LEVEL": 30,
              "MAX_RENDER_SIZE_BYTES": 104857600,
              "MAX_STRING_LENGTH": 250,
              "NUM_PAST_SAMPLES_TRACKED": 3,
              "RANDOM_STATE": 12648430,
              "RESET_INDEX_VALUES": false,
              "ROW_SAMPLING_METHOD": "random",
              "SAMPLING_FACTOR": 0.1,
              "SAMPLING_METHOD": "random",
              "STRINGIFY_COLUMN_VALUES": true,
              "STRINGIFY_INDEX_VALUES": false
            },
            "sample_history": [],
            "sampling_time": "2023-07-10T07:51:07.715336",
            "user_variable_name": null,
            "variable_name": "unk_dataframe_49e6912aa9e94cd0ade2c6b2567dccdc"
          }
        }
      },
      "execution_count": null,
      "source": "df = pd.read_csv('dataset.csv')",
      "outputs": []
    },
    {
      "id": "ac49e2ef-ef71-4bf0-8e0f-2e42140cca25",
      "cell_type": "code",
      "metadata": {
        "jupyter": {
          "outputs_hidden": false,
          "source_hidden": false
        },
        "noteable": {
          "cell_type": "code",
          "output_collection_id": "cfc09d19-ad00-4155-b7a5-c17ff8ab0b90"
        },
        "ExecuteTime": {
          "end_time": "2023-07-10T08:58:48.045519+00:00",
          "start_time": "2023-07-10T08:58:47.885074+00:00"
        }
      },
      "execution_count": null,
      "source": "def preprocess_data(df):\n    # Load the saved scalers\n    robust_scaler = joblib.load('robust_scaler.pkl')\n    standard_scaler = joblib.load('standard_scaler.pkl')\n\n    # Replace values in 'FGS' column\n    df['FGS'] = df['FGS'].replace({0: -1, 2: 0})\n\n    # Create new columns\n    df['diff_points_h-a'] = df['POINTS_H'] - df['POINTS_A']\n    df['diff_total_H-A'] = df['TOTAL_H_P'] - df['TOTAL_A_P']\n#     df['home_team'] = df['Match_O'].apply(lambda x: 1 if x == 2 else 0)\n#     df['away_team'] = df['Match_O'].apply(lambda x: 1 if x == 0 else 0)\n#     df['draw'] = df['Match_O'].apply(lambda x: 1 if x == 1 else 0)\n\n    # Apply robust scaling on 'diff_points_h-a'\n    df['diff_points_h-a'] = robust_scaler.transform(df[['diff_points_h-a']])\n\n    # Apply standard scaling on 'diff_total_H-A'\n    df['diff_total_H-A'] = standard_scaler.transform(df[['diff_total_H-A']])\n\n    # Drop the specified columns\n    df = df.drop(columns=['RED-H', 'RED-A', 'POINTS_H', 'POINTS_A', 'TOTAL_H_P', 'TOTAL_A_P', 'Match Number']) # Keeping Match_O column for now\n\n    # Filter the dataset\n    df = df[df['HTGD'].isin([-1, 0, 1])]\n\n    return df",
      "outputs": []
    },
    {
      "id": "ba1154bd-31c4-4971-8ffc-05c25fcf8787",
      "cell_type": "code",
      "metadata": {
        "jupyter": {
          "outputs_hidden": false,
          "source_hidden": false
        },
        "noteable": {
          "cell_type": "code",
          "output_collection_id": "47af9664-726c-4120-bad8-c955e65258fd"
        },
        "ExecuteTime": {
          "end_time": "2023-07-10T08:58:48.256935+00:00",
          "start_time": "2023-07-10T08:58:48.085497+00:00"
        },
        "datalink": {
          "69241350-74cf-4267-bc64-e9727feae1a7": {
            "applied_filters": [],
            "dataframe_info": {
              "default_index_used": true,
              "orig_num_cols": 7,
              "orig_num_rows": 1276,
              "orig_size_bytes": 81664,
              "truncated_num_cols": 7,
              "truncated_num_rows": 1276,
              "truncated_size_bytes": 81664,
              "truncated_string_columns": []
            },
            "display_id": "69241350-74cf-4267-bc64-e9727feae1a7",
            "dx_settings": {
              "ALLOW_NOTEABLE_ATTRS": true,
              "COLUMN_SAMPLING_METHOD": "outer",
              "DB_LOCATION": ":memory:",
              "DEV_MODE": false,
              "DISPLAY_MAX_COLUMNS": 100,
              "DISPLAY_MAX_ROWS": 50000,
              "DISPLAY_MODE": "simple",
              "ENABLE_ASSIGNMENT": true,
              "ENABLE_DATALINK": true,
              "FLATTEN_COLUMN_VALUES": true,
              "FLATTEN_INDEX_VALUES": false,
              "GENERATE_DEX_METADATA": false,
              "HTML_TABLE_SCHEMA": false,
              "LOG_LEVEL": 30,
              "MAX_RENDER_SIZE_BYTES": 104857600,
              "MAX_STRING_LENGTH": 250,
              "NUM_PAST_SAMPLES_TRACKED": 3,
              "RANDOM_STATE": 12648430,
              "RESET_INDEX_VALUES": false,
              "ROW_SAMPLING_METHOD": "random",
              "SAMPLING_FACTOR": 0.1,
              "SAMPLING_METHOD": "random",
              "STRINGIFY_COLUMN_VALUES": true,
              "STRINGIFY_INDEX_VALUES": false
            },
            "sample_history": [],
            "sampling_time": "2023-07-10T07:53:10.360116",
            "user_variable_name": null,
            "variable_name": "unk_dataframe_87b0d1cd25674a19853ba01374bac1a6"
          },
          "4a871c7e-a8f5-42b2-8ddb-4cea3e68ca4d": {
            "applied_filters": [],
            "dataframe_info": {
              "default_index_used": true,
              "orig_num_cols": 5,
              "orig_num_rows": 1276,
              "orig_size_bytes": 61248,
              "truncated_num_cols": 5,
              "truncated_num_rows": 1276,
              "truncated_size_bytes": 61248,
              "truncated_string_columns": []
            },
            "display_id": "4a871c7e-a8f5-42b2-8ddb-4cea3e68ca4d",
            "dx_settings": {
              "ALLOW_NOTEABLE_ATTRS": true,
              "COLUMN_SAMPLING_METHOD": "outer",
              "DB_LOCATION": ":memory:",
              "DEV_MODE": false,
              "DISPLAY_MAX_COLUMNS": 100,
              "DISPLAY_MAX_ROWS": 50000,
              "DISPLAY_MODE": "simple",
              "ENABLE_ASSIGNMENT": true,
              "ENABLE_DATALINK": true,
              "FLATTEN_COLUMN_VALUES": true,
              "FLATTEN_INDEX_VALUES": false,
              "GENERATE_DEX_METADATA": false,
              "HTML_TABLE_SCHEMA": false,
              "LOG_LEVEL": 30,
              "MAX_RENDER_SIZE_BYTES": 104857600,
              "MAX_STRING_LENGTH": 250,
              "NUM_PAST_SAMPLES_TRACKED": 3,
              "RANDOM_STATE": 12648430,
              "RESET_INDEX_VALUES": false,
              "ROW_SAMPLING_METHOD": "random",
              "SAMPLING_FACTOR": 0.1,
              "SAMPLING_METHOD": "random",
              "STRINGIFY_COLUMN_VALUES": true,
              "STRINGIFY_INDEX_VALUES": false
            },
            "sample_history": [],
            "sampling_time": "2023-07-10T08:01:07.629474",
            "user_variable_name": null,
            "variable_name": "unk_dataframe_56539addb85a4e7287b5b6a79d8ac806"
          }
        }
      },
      "execution_count": null,
      "source": "df_mod = preprocess_data(df)",
      "outputs": []
    },
    {
      "id": "d13551f1-0fa1-4c7e-a375-5e0833cba795",
      "cell_type": "code",
      "metadata": {
        "jupyter": {
          "outputs_hidden": false,
          "source_hidden": false
        },
        "noteable": {
          "cell_type": "code",
          "output_collection_id": "c5d70c40-9dc5-4348-997d-619f8e9af21c"
        },
        "ExecuteTime": {
          "end_time": "2023-07-10T08:58:49.267353+00:00",
          "start_time": "2023-07-10T08:58:49.110197+00:00"
        }
      },
      "execution_count": null,
      "source": "X_mod = df_mod.drop(['Match_O'], axis=1)\ny_mod = df_mod['Match_O']",
      "outputs": []
    },
    {
      "id": "23ddc7bd-dd82-4dc3-b553-4c64af086f27",
      "cell_type": "code",
      "metadata": {
        "jupyter": {
          "outputs_hidden": false,
          "source_hidden": false
        },
        "noteable": {
          "cell_type": "code",
          "output_collection_id": "d0e4d07b-26f8-420c-9feb-8e36b6158993"
        },
        "ExecuteTime": {
          "end_time": "2023-07-10T08:58:48.562779+00:00",
          "start_time": "2023-07-10T08:58:48.286376+00:00"
        },
        "datalink": {
          "49cb2d0c-0ef9-49b9-8773-ce1350fa6e46": {
            "applied_filters": [],
            "dataframe_info": {
              "default_index_used": true,
              "orig_num_cols": 12,
              "orig_num_rows": 1520,
              "orig_size_bytes": 158080,
              "truncated_num_cols": 12,
              "truncated_num_rows": 1520,
              "truncated_size_bytes": 158080,
              "truncated_string_columns": []
            },
            "display_id": "49cb2d0c-0ef9-49b9-8773-ce1350fa6e46",
            "dx_settings": {
              "ALLOW_NOTEABLE_ATTRS": true,
              "COLUMN_SAMPLING_METHOD": "outer",
              "DB_LOCATION": ":memory:",
              "DEV_MODE": false,
              "DISPLAY_MAX_COLUMNS": 100,
              "DISPLAY_MAX_ROWS": 50000,
              "DISPLAY_MODE": "simple",
              "ENABLE_ASSIGNMENT": true,
              "ENABLE_DATALINK": true,
              "FLATTEN_COLUMN_VALUES": true,
              "FLATTEN_INDEX_VALUES": false,
              "GENERATE_DEX_METADATA": false,
              "HTML_TABLE_SCHEMA": false,
              "LOG_LEVEL": 30,
              "MAX_RENDER_SIZE_BYTES": 104857600,
              "MAX_STRING_LENGTH": 250,
              "NUM_PAST_SAMPLES_TRACKED": 3,
              "RANDOM_STATE": 12648430,
              "RESET_INDEX_VALUES": false,
              "ROW_SAMPLING_METHOD": "random",
              "SAMPLING_FACTOR": 0.1,
              "SAMPLING_METHOD": "random",
              "STRINGIFY_COLUMN_VALUES": true,
              "STRINGIFY_INDEX_VALUES": false
            },
            "sample_history": [],
            "sampling_time": "2023-07-10T08:07:19.363031",
            "user_variable_name": "df",
            "variable_name": "df"
          },
          "fb3c56ed-fa2e-425d-8818-f208c52840b8": {
            "applied_filters": [],
            "dataframe_info": {
              "default_index_used": true,
              "orig_num_cols": 12,
              "orig_num_rows": 1520,
              "orig_size_bytes": 158080,
              "truncated_num_cols": 12,
              "truncated_num_rows": 1520,
              "truncated_size_bytes": 158080,
              "truncated_string_columns": []
            },
            "display_id": "fb3c56ed-fa2e-425d-8818-f208c52840b8",
            "dx_settings": {
              "ALLOW_NOTEABLE_ATTRS": true,
              "COLUMN_SAMPLING_METHOD": "outer",
              "DB_LOCATION": ":memory:",
              "DEV_MODE": false,
              "DISPLAY_MAX_COLUMNS": 100,
              "DISPLAY_MAX_ROWS": 50000,
              "DISPLAY_MODE": "simple",
              "ENABLE_ASSIGNMENT": true,
              "ENABLE_DATALINK": true,
              "FLATTEN_COLUMN_VALUES": true,
              "FLATTEN_INDEX_VALUES": false,
              "GENERATE_DEX_METADATA": false,
              "HTML_TABLE_SCHEMA": false,
              "LOG_LEVEL": 30,
              "MAX_RENDER_SIZE_BYTES": 104857600,
              "MAX_STRING_LENGTH": 250,
              "NUM_PAST_SAMPLES_TRACKED": 3,
              "RANDOM_STATE": 12648430,
              "RESET_INDEX_VALUES": false,
              "ROW_SAMPLING_METHOD": "random",
              "SAMPLING_FACTOR": 0.1,
              "SAMPLING_METHOD": "random",
              "STRINGIFY_COLUMN_VALUES": true,
              "STRINGIFY_INDEX_VALUES": false
            },
            "sample_history": [],
            "sampling_time": "2023-07-10T08:52:50.210962",
            "user_variable_name": "df",
            "variable_name": "df"
          },
          "06ee622e-bf13-48b3-82ca-8ebb8baacdbf": {
            "applied_filters": [],
            "dataframe_info": {
              "default_index_used": true,
              "orig_num_cols": 12,
              "orig_num_rows": 1520,
              "orig_size_bytes": 158080,
              "truncated_num_cols": 12,
              "truncated_num_rows": 1520,
              "truncated_size_bytes": 158080,
              "truncated_string_columns": []
            },
            "display_id": "06ee622e-bf13-48b3-82ca-8ebb8baacdbf",
            "dx_settings": {
              "ALLOW_NOTEABLE_ATTRS": true,
              "COLUMN_SAMPLING_METHOD": "outer",
              "DB_LOCATION": ":memory:",
              "DEV_MODE": false,
              "DISPLAY_MAX_COLUMNS": 100,
              "DISPLAY_MAX_ROWS": 50000,
              "DISPLAY_MODE": "simple",
              "ENABLE_ASSIGNMENT": true,
              "ENABLE_DATALINK": true,
              "FLATTEN_COLUMN_VALUES": true,
              "FLATTEN_INDEX_VALUES": false,
              "GENERATE_DEX_METADATA": false,
              "HTML_TABLE_SCHEMA": false,
              "LOG_LEVEL": 30,
              "MAX_RENDER_SIZE_BYTES": 104857600,
              "MAX_STRING_LENGTH": 250,
              "NUM_PAST_SAMPLES_TRACKED": 3,
              "RANDOM_STATE": 12648430,
              "RESET_INDEX_VALUES": false,
              "ROW_SAMPLING_METHOD": "random",
              "SAMPLING_FACTOR": 0.1,
              "SAMPLING_METHOD": "random",
              "STRINGIFY_COLUMN_VALUES": true,
              "STRINGIFY_INDEX_VALUES": false
            },
            "sample_history": [],
            "sampling_time": "2023-07-10T08:53:10.667924",
            "user_variable_name": "df",
            "variable_name": "df"
          },
          "5831306a-0207-4133-8617-f6f3b4301e10": {
            "applied_filters": [],
            "dataframe_info": {
              "default_index_used": true,
              "orig_num_cols": 12,
              "orig_num_rows": 1520,
              "orig_size_bytes": 158080,
              "truncated_num_cols": 12,
              "truncated_num_rows": 1520,
              "truncated_size_bytes": 158080,
              "truncated_string_columns": []
            },
            "display_id": "5831306a-0207-4133-8617-f6f3b4301e10",
            "dx_settings": {
              "ALLOW_NOTEABLE_ATTRS": true,
              "COLUMN_SAMPLING_METHOD": "outer",
              "DB_LOCATION": ":memory:",
              "DEV_MODE": false,
              "DISPLAY_MAX_COLUMNS": 100,
              "DISPLAY_MAX_ROWS": 50000,
              "DISPLAY_MODE": "simple",
              "ENABLE_ASSIGNMENT": true,
              "ENABLE_DATALINK": true,
              "FLATTEN_COLUMN_VALUES": true,
              "FLATTEN_INDEX_VALUES": false,
              "GENERATE_DEX_METADATA": false,
              "HTML_TABLE_SCHEMA": false,
              "LOG_LEVEL": 30,
              "MAX_RENDER_SIZE_BYTES": 104857600,
              "MAX_STRING_LENGTH": 250,
              "NUM_PAST_SAMPLES_TRACKED": 3,
              "RANDOM_STATE": 12648430,
              "RESET_INDEX_VALUES": false,
              "ROW_SAMPLING_METHOD": "random",
              "SAMPLING_FACTOR": 0.1,
              "SAMPLING_METHOD": "random",
              "STRINGIFY_COLUMN_VALUES": true,
              "STRINGIFY_INDEX_VALUES": false
            },
            "sample_history": [],
            "sampling_time": "2023-07-10T08:58:48.388117",
            "user_variable_name": "df",
            "variable_name": "df"
          }
        }
      },
      "execution_count": null,
      "source": "df",
      "outputs": []
    },
    {
      "id": "e047f17e-63d6-4abb-8585-7cb28f5cc41b",
      "cell_type": "code",
      "metadata": {
        "jupyter": {
          "outputs_hidden": false,
          "source_hidden": false
        },
        "noteable": {
          "cell_type": "code",
          "output_collection_id": "592b8d61-1679-43b6-84f9-1e6dfb4a3f3b"
        },
        "ExecuteTime": {
          "end_time": "2023-07-10T08:58:49.443005+00:00",
          "start_time": "2023-07-10T08:58:49.278997+00:00"
        }
      },
      "execution_count": null,
      "source": "X_train, X_test, y_train, y_test = train_test_split(X_mod, y_mod, test_size=0.2, random_state=42)",
      "outputs": []
    },
    {
      "id": "94a5c2d3-c344-4caf-bd7a-ddcc1fd1b3fd",
      "cell_type": "code",
      "metadata": {
        "jupyter": {
          "outputs_hidden": false,
          "source_hidden": false
        },
        "noteable": {
          "cell_type": "code",
          "output_collection_id": "3affd8c9-354c-4a83-93d4-5a46a56e5a1c"
        },
        "ExecuteTime": {
          "end_time": "2023-07-10T08:58:49.612300+00:00",
          "start_time": "2023-07-10T08:58:49.450472+00:00"
        }
      },
      "execution_count": null,
      "source": "rest_df = df = df[df['HTGD'].isin([-1, 0, 1]) == False]",
      "outputs": []
    },
    {
      "id": "7e010906-8f09-4adc-9885-b4675682d7fb",
      "cell_type": "code",
      "metadata": {
        "jupyter": {
          "outputs_hidden": false,
          "source_hidden": false
        },
        "noteable": {
          "cell_type": "code",
          "output_collection_id": "1b3191ae-dfa1-46be-9c8c-c12c517a304a"
        },
        "ExecuteTime": {
          "end_time": "2023-07-10T08:58:49.874335+00:00",
          "start_time": "2023-07-10T08:58:49.622938+00:00"
        },
        "datalink": {
          "7d4533f3-3cf5-4511-be3f-9f8ac3e2d9e8": {
            "applied_filters": [],
            "dataframe_info": {
              "default_index_used": true,
              "orig_num_cols": 12,
              "orig_num_rows": 244,
              "orig_size_bytes": 25376,
              "truncated_num_cols": 12,
              "truncated_num_rows": 244,
              "truncated_size_bytes": 25376,
              "truncated_string_columns": []
            },
            "display_id": "7d4533f3-3cf5-4511-be3f-9f8ac3e2d9e8",
            "dx_settings": {
              "ALLOW_NOTEABLE_ATTRS": true,
              "COLUMN_SAMPLING_METHOD": "outer",
              "DB_LOCATION": ":memory:",
              "DEV_MODE": false,
              "DISPLAY_MAX_COLUMNS": 100,
              "DISPLAY_MAX_ROWS": 50000,
              "DISPLAY_MODE": "simple",
              "ENABLE_ASSIGNMENT": true,
              "ENABLE_DATALINK": true,
              "FLATTEN_COLUMN_VALUES": true,
              "FLATTEN_INDEX_VALUES": false,
              "GENERATE_DEX_METADATA": false,
              "HTML_TABLE_SCHEMA": false,
              "LOG_LEVEL": 30,
              "MAX_RENDER_SIZE_BYTES": 104857600,
              "MAX_STRING_LENGTH": 250,
              "NUM_PAST_SAMPLES_TRACKED": 3,
              "RANDOM_STATE": 12648430,
              "RESET_INDEX_VALUES": false,
              "ROW_SAMPLING_METHOD": "random",
              "SAMPLING_FACTOR": 0.1,
              "SAMPLING_METHOD": "random",
              "STRINGIFY_COLUMN_VALUES": true,
              "STRINGIFY_INDEX_VALUES": false
            },
            "sample_history": [],
            "sampling_time": "2023-07-10T08:10:28.592492",
            "user_variable_name": "df",
            "variable_name": "df"
          },
          "2e2fe1b1-b312-4d03-80f0-fe4125b1e13b": {
            "applied_filters": [],
            "dataframe_info": {
              "default_index_used": true,
              "orig_num_cols": 12,
              "orig_num_rows": 244,
              "orig_size_bytes": 25376,
              "truncated_num_cols": 12,
              "truncated_num_rows": 244,
              "truncated_size_bytes": 25376,
              "truncated_string_columns": []
            },
            "display_id": "2e2fe1b1-b312-4d03-80f0-fe4125b1e13b",
            "dx_settings": {
              "ALLOW_NOTEABLE_ATTRS": true,
              "COLUMN_SAMPLING_METHOD": "outer",
              "DB_LOCATION": ":memory:",
              "DEV_MODE": false,
              "DISPLAY_MAX_COLUMNS": 100,
              "DISPLAY_MAX_ROWS": 50000,
              "DISPLAY_MODE": "simple",
              "ENABLE_ASSIGNMENT": true,
              "ENABLE_DATALINK": true,
              "FLATTEN_COLUMN_VALUES": true,
              "FLATTEN_INDEX_VALUES": false,
              "GENERATE_DEX_METADATA": false,
              "HTML_TABLE_SCHEMA": false,
              "LOG_LEVEL": 30,
              "MAX_RENDER_SIZE_BYTES": 104857600,
              "MAX_STRING_LENGTH": 250,
              "NUM_PAST_SAMPLES_TRACKED": 3,
              "RANDOM_STATE": 12648430,
              "RESET_INDEX_VALUES": false,
              "ROW_SAMPLING_METHOD": "random",
              "SAMPLING_FACTOR": 0.1,
              "SAMPLING_METHOD": "random",
              "STRINGIFY_COLUMN_VALUES": true,
              "STRINGIFY_INDEX_VALUES": false
            },
            "sample_history": [],
            "sampling_time": "2023-07-10T08:52:51.758629",
            "user_variable_name": "df",
            "variable_name": "df"
          },
          "dd3ab81e-09ad-4024-a6fd-c79a2324d099": {
            "applied_filters": [],
            "dataframe_info": {
              "default_index_used": true,
              "orig_num_cols": 12,
              "orig_num_rows": 244,
              "orig_size_bytes": 25376,
              "truncated_num_cols": 12,
              "truncated_num_rows": 244,
              "truncated_size_bytes": 25376,
              "truncated_string_columns": []
            },
            "display_id": "dd3ab81e-09ad-4024-a6fd-c79a2324d099",
            "dx_settings": {
              "ALLOW_NOTEABLE_ATTRS": true,
              "COLUMN_SAMPLING_METHOD": "outer",
              "DB_LOCATION": ":memory:",
              "DEV_MODE": false,
              "DISPLAY_MAX_COLUMNS": 100,
              "DISPLAY_MAX_ROWS": 50000,
              "DISPLAY_MODE": "simple",
              "ENABLE_ASSIGNMENT": true,
              "ENABLE_DATALINK": true,
              "FLATTEN_COLUMN_VALUES": true,
              "FLATTEN_INDEX_VALUES": false,
              "GENERATE_DEX_METADATA": false,
              "HTML_TABLE_SCHEMA": false,
              "LOG_LEVEL": 30,
              "MAX_RENDER_SIZE_BYTES": 104857600,
              "MAX_STRING_LENGTH": 250,
              "NUM_PAST_SAMPLES_TRACKED": 3,
              "RANDOM_STATE": 12648430,
              "RESET_INDEX_VALUES": false,
              "ROW_SAMPLING_METHOD": "random",
              "SAMPLING_FACTOR": 0.1,
              "SAMPLING_METHOD": "random",
              "STRINGIFY_COLUMN_VALUES": true,
              "STRINGIFY_INDEX_VALUES": false
            },
            "sample_history": [],
            "sampling_time": "2023-07-10T08:53:11.939544",
            "user_variable_name": "df",
            "variable_name": "df"
          },
          "2d6b0c81-a856-4045-a786-5e4eb8fafac9": {
            "applied_filters": [],
            "dataframe_info": {
              "default_index_used": true,
              "orig_num_cols": 12,
              "orig_num_rows": 244,
              "orig_size_bytes": 25376,
              "truncated_num_cols": 12,
              "truncated_num_rows": 244,
              "truncated_size_bytes": 25376,
              "truncated_string_columns": []
            },
            "display_id": "2d6b0c81-a856-4045-a786-5e4eb8fafac9",
            "dx_settings": {
              "ALLOW_NOTEABLE_ATTRS": true,
              "COLUMN_SAMPLING_METHOD": "outer",
              "DB_LOCATION": ":memory:",
              "DEV_MODE": false,
              "DISPLAY_MAX_COLUMNS": 100,
              "DISPLAY_MAX_ROWS": 50000,
              "DISPLAY_MODE": "simple",
              "ENABLE_ASSIGNMENT": true,
              "ENABLE_DATALINK": true,
              "FLATTEN_COLUMN_VALUES": true,
              "FLATTEN_INDEX_VALUES": false,
              "GENERATE_DEX_METADATA": false,
              "HTML_TABLE_SCHEMA": false,
              "LOG_LEVEL": 30,
              "MAX_RENDER_SIZE_BYTES": 104857600,
              "MAX_STRING_LENGTH": 250,
              "NUM_PAST_SAMPLES_TRACKED": 3,
              "RANDOM_STATE": 12648430,
              "RESET_INDEX_VALUES": false,
              "ROW_SAMPLING_METHOD": "random",
              "SAMPLING_FACTOR": 0.1,
              "SAMPLING_METHOD": "random",
              "STRINGIFY_COLUMN_VALUES": true,
              "STRINGIFY_INDEX_VALUES": false
            },
            "sample_history": [],
            "sampling_time": "2023-07-10T08:58:49.712484",
            "user_variable_name": "df",
            "variable_name": "df"
          }
        }
      },
      "execution_count": null,
      "source": "rest_df",
      "outputs": []
    },
    {
      "id": "22afc2df-2def-4001-8b8e-2b236c77b9da",
      "cell_type": "code",
      "metadata": {
        "jupyter": {
          "outputs_hidden": false,
          "source_hidden": false
        },
        "noteable": {
          "cell_type": "code",
          "output_collection_id": "ae397eb6-c747-494b-b7da-406166a233f8"
        },
        "ExecuteTime": {
          "end_time": "2023-07-10T08:58:50.056690+00:00",
          "start_time": "2023-07-10T08:58:49.895486+00:00"
        }
      },
      "execution_count": null,
      "source": "def preprocess_rest(df):\n    # Load the saved scalers\n    robust_scaler = joblib.load('robust_scaler.pkl')\n    standard_scaler = joblib.load('standard_scaler.pkl')\n\n    # Replace values in 'FGS' column\n    df['FGS'] = df['FGS'].replace({0: -1, 2: 0})\n\n    # Create new columns\n    df['diff_points_h-a'] = df['POINTS_H'] - df['POINTS_A']\n    df['diff_total_H-A'] = df['TOTAL_H_P'] - df['TOTAL_A_P']\n#     df['home_team'] = df['Match_O'].apply(lambda x: 1 if x == 2 else 0)\n#     df['away_team'] = df['Match_O'].apply(lambda x: 1 if x == 0 else 0)\n#     df['draw'] = df['Match_O'].apply(lambda x: 1 if x == 1 else 0)\n\n    # Apply robust scaling on 'diff_points_h-a'\n    df['diff_points_h-a'] = robust_scaler.transform(df[['diff_points_h-a']])\n\n    # Apply standard scaling on 'diff_total_H-A'\n    df['diff_total_H-A'] = standard_scaler.transform(df[['diff_total_H-A']])\n\n    # Drop the specified columns\n    df = df.drop(columns=['RED-H', 'RED-A', 'POINTS_H', 'POINTS_A', 'TOTAL_H_P', 'TOTAL_A_P', 'Match Number']) # Keeping Match_O column for now\n\n    # Filter the dataset\n#     df = df[df['HTGD'].isin([-1, 0, 1])]\n\n    return df",
      "outputs": []
    },
    {
      "id": "2c1ae7af-b754-425c-b92d-6e809dc30e28",
      "cell_type": "code",
      "metadata": {
        "jupyter": {
          "outputs_hidden": false,
          "source_hidden": false
        },
        "noteable": {
          "cell_type": "code",
          "output_collection_id": "997d2044-9dcf-4535-8cb5-1eac021a23ed"
        },
        "ExecuteTime": {
          "end_time": "2023-07-10T08:59:16.850698+00:00",
          "start_time": "2023-07-10T08:59:16.683518+00:00"
        },
        "datalink": {
          "69d9a836-7aae-43e3-ae98-18dd2e18f781": {
            "applied_filters": [],
            "dataframe_info": {
              "default_index_used": true,
              "orig_num_cols": 5,
              "orig_num_rows": 244,
              "orig_size_bytes": 11712,
              "truncated_num_cols": 5,
              "truncated_num_rows": 244,
              "truncated_size_bytes": 11712,
              "truncated_string_columns": []
            },
            "display_id": "69d9a836-7aae-43e3-ae98-18dd2e18f781",
            "dx_settings": {
              "ALLOW_NOTEABLE_ATTRS": true,
              "COLUMN_SAMPLING_METHOD": "outer",
              "DB_LOCATION": ":memory:",
              "DEV_MODE": false,
              "DISPLAY_MAX_COLUMNS": 100,
              "DISPLAY_MAX_ROWS": 50000,
              "DISPLAY_MODE": "simple",
              "ENABLE_ASSIGNMENT": true,
              "ENABLE_DATALINK": true,
              "FLATTEN_COLUMN_VALUES": true,
              "FLATTEN_INDEX_VALUES": false,
              "GENERATE_DEX_METADATA": false,
              "HTML_TABLE_SCHEMA": false,
              "LOG_LEVEL": 30,
              "MAX_RENDER_SIZE_BYTES": 104857600,
              "MAX_STRING_LENGTH": 250,
              "NUM_PAST_SAMPLES_TRACKED": 3,
              "RANDOM_STATE": 12648430,
              "RESET_INDEX_VALUES": false,
              "ROW_SAMPLING_METHOD": "random",
              "SAMPLING_FACTOR": 0.1,
              "SAMPLING_METHOD": "random",
              "STRINGIFY_COLUMN_VALUES": true,
              "STRINGIFY_INDEX_VALUES": false
            },
            "sample_history": [],
            "sampling_time": "2023-07-10T08:12:04.490725",
            "user_variable_name": null,
            "variable_name": "unk_dataframe_ed11fdf8f2274a7d9b8c8314caad2ea5"
          },
          "f280d010-063b-452e-ac99-9d9d1f9135b6": {
            "applied_filters": [],
            "dataframe_info": {
              "default_index_used": true,
              "orig_num_cols": 5,
              "orig_num_rows": 244,
              "orig_size_bytes": 11712,
              "truncated_num_cols": 5,
              "truncated_num_rows": 244,
              "truncated_size_bytes": 11712,
              "truncated_string_columns": []
            },
            "display_id": "f280d010-063b-452e-ac99-9d9d1f9135b6",
            "dx_settings": {
              "ALLOW_NOTEABLE_ATTRS": true,
              "COLUMN_SAMPLING_METHOD": "outer",
              "DB_LOCATION": ":memory:",
              "DEV_MODE": false,
              "DISPLAY_MAX_COLUMNS": 100,
              "DISPLAY_MAX_ROWS": 50000,
              "DISPLAY_MODE": "simple",
              "ENABLE_ASSIGNMENT": true,
              "ENABLE_DATALINK": true,
              "FLATTEN_COLUMN_VALUES": true,
              "FLATTEN_INDEX_VALUES": false,
              "GENERATE_DEX_METADATA": false,
              "HTML_TABLE_SCHEMA": false,
              "LOG_LEVEL": 30,
              "MAX_RENDER_SIZE_BYTES": 104857600,
              "MAX_STRING_LENGTH": 250,
              "NUM_PAST_SAMPLES_TRACKED": 3,
              "RANDOM_STATE": 12648430,
              "RESET_INDEX_VALUES": false,
              "ROW_SAMPLING_METHOD": "random",
              "SAMPLING_FACTOR": 0.1,
              "SAMPLING_METHOD": "random",
              "STRINGIFY_COLUMN_VALUES": true,
              "STRINGIFY_INDEX_VALUES": false
            },
            "sample_history": [],
            "sampling_time": "2023-07-10T08:52:52.268864",
            "user_variable_name": null,
            "variable_name": "unk_dataframe_8cfc72f57f3241a4839d21278573db00"
          },
          "bbe33f5d-ff90-4194-a963-fbff92de5360": {
            "applied_filters": [],
            "dataframe_info": {
              "default_index_used": true,
              "orig_num_cols": 5,
              "orig_num_rows": 244,
              "orig_size_bytes": 11712,
              "truncated_num_cols": 5,
              "truncated_num_rows": 244,
              "truncated_size_bytes": 11712,
              "truncated_string_columns": []
            },
            "display_id": "bbe33f5d-ff90-4194-a963-fbff92de5360",
            "dx_settings": {
              "ALLOW_NOTEABLE_ATTRS": true,
              "COLUMN_SAMPLING_METHOD": "outer",
              "DB_LOCATION": ":memory:",
              "DEV_MODE": false,
              "DISPLAY_MAX_COLUMNS": 100,
              "DISPLAY_MAX_ROWS": 50000,
              "DISPLAY_MODE": "simple",
              "ENABLE_ASSIGNMENT": true,
              "ENABLE_DATALINK": true,
              "FLATTEN_COLUMN_VALUES": true,
              "FLATTEN_INDEX_VALUES": false,
              "GENERATE_DEX_METADATA": false,
              "HTML_TABLE_SCHEMA": false,
              "LOG_LEVEL": 30,
              "MAX_RENDER_SIZE_BYTES": 104857600,
              "MAX_STRING_LENGTH": 250,
              "NUM_PAST_SAMPLES_TRACKED": 3,
              "RANDOM_STATE": 12648430,
              "RESET_INDEX_VALUES": false,
              "ROW_SAMPLING_METHOD": "random",
              "SAMPLING_FACTOR": 0.1,
              "SAMPLING_METHOD": "random",
              "STRINGIFY_COLUMN_VALUES": true,
              "STRINGIFY_INDEX_VALUES": false
            },
            "sample_history": [],
            "sampling_time": "2023-07-10T08:53:12.367612",
            "user_variable_name": null,
            "variable_name": "unk_dataframe_4c39f21709444922bc91a2fd4a8d17b6"
          }
        }
      },
      "execution_count": null,
      "source": "rest_df = preprocess_rest(rest_df)",
      "outputs": []
    },
    {
      "id": "d1e4fb4c-9b3d-46b5-a82a-202506f55397",
      "cell_type": "code",
      "metadata": {
        "jupyter": {
          "outputs_hidden": false,
          "source_hidden": false
        },
        "noteable": {
          "cell_type": "code",
          "output_collection_id": "459db5d3-ad20-4b21-9c82-84743e1e5270"
        },
        "ExecuteTime": {
          "end_time": "2023-07-10T08:59:22.744620+00:00",
          "start_time": "2023-07-10T08:59:22.584749+00:00"
        }
      },
      "execution_count": null,
      "source": "# X_test = X_test + rest_df.drop(['Match_O'],axis=1)\n# y_test = y_test + rest_df['Match_O']\nX_test = pd.concat([X_test,rest_df.drop(['Match_O'],axis=1)], ignore_index=True)\ny_test = pd.concat([y_test,rest_df['Match_O']], ignore_index=True)\n",
      "outputs": []
    },
    {
      "id": "a98395e9-f4f0-436a-a0db-a48ed113240a",
      "cell_type": "code",
      "metadata": {
        "jupyter": {
          "outputs_hidden": false,
          "source_hidden": false
        },
        "noteable": {
          "cell_type": "code",
          "output_collection_id": "8c098b2a-b3e1-46e0-ba0f-08970c7daae9"
        },
        "ExecuteTime": {
          "end_time": "2023-07-10T08:59:23.126211+00:00",
          "start_time": "2023-07-10T08:59:22.904678+00:00"
        },
        "datalink": {
          "31e7e8d0-870d-4d7b-a50f-56848ffbbfbe": {
            "applied_filters": [],
            "dataframe_info": {
              "default_index_used": true,
              "orig_num_cols": 11,
              "orig_num_rows": 500,
              "orig_size_bytes": 48000,
              "truncated_num_cols": 11,
              "truncated_num_rows": 500,
              "truncated_size_bytes": 48000,
              "truncated_string_columns": []
            },
            "display_id": "31e7e8d0-870d-4d7b-a50f-56848ffbbfbe",
            "dx_settings": {
              "ALLOW_NOTEABLE_ATTRS": true,
              "COLUMN_SAMPLING_METHOD": "outer",
              "DB_LOCATION": ":memory:",
              "DEV_MODE": false,
              "DISPLAY_MAX_COLUMNS": 100,
              "DISPLAY_MAX_ROWS": 50000,
              "DISPLAY_MODE": "simple",
              "ENABLE_ASSIGNMENT": true,
              "ENABLE_DATALINK": true,
              "FLATTEN_COLUMN_VALUES": true,
              "FLATTEN_INDEX_VALUES": false,
              "GENERATE_DEX_METADATA": false,
              "HTML_TABLE_SCHEMA": false,
              "LOG_LEVEL": 30,
              "MAX_RENDER_SIZE_BYTES": 104857600,
              "MAX_STRING_LENGTH": 250,
              "NUM_PAST_SAMPLES_TRACKED": 3,
              "RANDOM_STATE": 12648430,
              "RESET_INDEX_VALUES": false,
              "ROW_SAMPLING_METHOD": "random",
              "SAMPLING_FACTOR": 0.1,
              "SAMPLING_METHOD": "random",
              "STRINGIFY_COLUMN_VALUES": true,
              "STRINGIFY_INDEX_VALUES": false
            },
            "sample_history": [],
            "sampling_time": "2023-07-10T08:53:19.663634",
            "user_variable_name": "X_test",
            "variable_name": "X_test"
          },
          "aac38a0c-981b-4ba9-b99a-fbe32ef93531": {
            "applied_filters": [],
            "dataframe_info": {
              "default_index_used": true,
              "orig_num_cols": 4,
              "orig_num_rows": 500,
              "orig_size_bytes": 20000,
              "truncated_num_cols": 4,
              "truncated_num_rows": 500,
              "truncated_size_bytes": 20000,
              "truncated_string_columns": []
            },
            "display_id": "aac38a0c-981b-4ba9-b99a-fbe32ef93531",
            "dx_settings": {
              "ALLOW_NOTEABLE_ATTRS": true,
              "COLUMN_SAMPLING_METHOD": "outer",
              "DB_LOCATION": ":memory:",
              "DEV_MODE": false,
              "DISPLAY_MAX_COLUMNS": 100,
              "DISPLAY_MAX_ROWS": 50000,
              "DISPLAY_MODE": "simple",
              "ENABLE_ASSIGNMENT": true,
              "ENABLE_DATALINK": true,
              "FLATTEN_COLUMN_VALUES": true,
              "FLATTEN_INDEX_VALUES": false,
              "GENERATE_DEX_METADATA": false,
              "HTML_TABLE_SCHEMA": false,
              "LOG_LEVEL": 30,
              "MAX_RENDER_SIZE_BYTES": 104857600,
              "MAX_STRING_LENGTH": 250,
              "NUM_PAST_SAMPLES_TRACKED": 3,
              "RANDOM_STATE": 12648430,
              "RESET_INDEX_VALUES": false,
              "ROW_SAMPLING_METHOD": "random",
              "SAMPLING_FACTOR": 0.1,
              "SAMPLING_METHOD": "random",
              "STRINGIFY_COLUMN_VALUES": true,
              "STRINGIFY_INDEX_VALUES": false
            },
            "sample_history": [],
            "sampling_time": "2023-07-10T08:59:22.968211",
            "user_variable_name": "X_test",
            "variable_name": "X_test"
          }
        }
      },
      "execution_count": null,
      "source": "X_test",
      "outputs": []
    },
    {
      "id": "87cbc53a-efa8-4296-be9c-553f77fa221e",
      "cell_type": "code",
      "metadata": {
        "noteable": {
          "cell_type": "code",
          "output_collection_id": "21a4a283-279f-4524-8dc8-29979bd2626a"
        },
        "ExecuteTime": {
          "end_time": "2023-07-10T09:00:29.343885+00:00",
          "start_time": "2023-07-10T09:00:29.182563+00:00"
        }
      },
      "execution_count": null,
      "source": "def predict_outcome(X):\n    # Load the models\n    lr_home_model = joblib.load('lr_home_model.pkl')\n    lr_away_model = joblib.load('lr_away_model.pkl')\n    lr_draw_model = joblib.load('lr_draw_model.pkl')\n\n    # Initialize an empty list to store the predictions\n    predictions = []\n\n    # Iterate over the rows in the dataframe\n    for _, row in X.iterrows():\n        # If HTGD is greater than 1, the home team wins\n        if row['HTGD'] > 1:\n            predictions.append(2)\n        # If HTGD is less than 1, the home team loses\n        elif row['HTGD'] < 1:\n            predictions.append(0)\n        # Otherwise, use the models to predict the outcome\n        else:\n            # Calculate the probabilities of each outcome\n            home_win_prob = lr_home_model.predict_proba([row])[0][1]\n            away_win_prob = lr_away_model.predict_proba([row])[0][1]\n            draw_prob = lr_draw_model.predict_proba([row])[0][1]\n\n            # Determine the outcome with the highest probability\n            max_prob = max(home_win_prob, away_win_prob, draw_prob)\n            if max_prob == home_win_prob:\n                predictions.append(2)\n            elif max_prob == away_win_prob:\n                predictions.append(0)\n            else:\n                predictions.append(1)\n\n    return predictions",
      "outputs": []
    },
    {
      "id": "541b2c22-f2d9-47e8-ae25-dc3bbc4c5293",
      "cell_type": "code",
      "metadata": {
        "noteable": {
          "cell_type": "code",
          "output_collection_id": "f518350e-a2f4-42ea-b313-e6a78148e502"
        },
        "ExecuteTime": {
          "end_time": "2023-07-10T09:00:50.268416+00:00",
          "start_time": "2023-07-10T09:00:50.034386+00:00"
        }
      },
      "execution_count": null,
      "source": "from sklearn.metrics import accuracy_score\n\n# Predict the outcomes for the test data\ny_pred = predict_outcome(X_test)\n\n# Calculate the accuracy of the predictions\naccuracy = accuracy_score(y_test, y_pred)\naccuracy",
      "outputs": []
    },
    {
      "id": "bd6931d1-4d27-49ec-8863-904ede1328d0",
      "cell_type": "code",
      "metadata": {
        "noteable": {
          "cell_type": "code",
          "output_collection_id": "48755697-fa5e-4954-8777-20f4a18a199b"
        },
        "ExecuteTime": {
          "end_time": "2023-07-10T09:13:34.730413+00:00",
          "start_time": "2023-07-10T09:13:34.570110+00:00"
        }
      },
      "execution_count": null,
      "source": "def predict_outcome_weighted(X):\n    # Load the models\n    lr_home_model = joblib.load('lr_home_model.pkl')\n    lr_away_model = joblib.load('lr_away_model.pkl')\n    lr_draw_model = joblib.load('lr_draw_model.pkl')\n\n    # Initialize an empty list to store the predictions\n    predictions = []\n\n    # Define the weights based on the precision of each model\n    weight_home = 0.71\n    weight_away = 0.74\n    weight_draw = 0.00\n\n    # Iterate over the rows in the dataframe\n    for _, row in X.iterrows():\n        # If HTGD is greater than 1, the home team wins\n        if row['HTGD'] > 1:\n            predictions.append(2)\n        # If HTGD is less than 1, the home team loses\n        elif row['HTGD'] < 1:\n            predictions.append(0)\n        # Otherwise, use the models to predict the outcome\n        else:\n            # Calculate the probabilities of each outcome\n            home_win_prob = lr_home_model.predict_proba([row])[0][1] * weight_home\n            away_win_prob = lr_away_model.predict_proba([row])[0][1] * weight_away\n            draw_prob = lr_draw_model.predict_proba([row])[0][1] * weight_draw\n\n            # Determine the outcome with the highest weighted probability\n            max_prob = max(home_win_prob, away_win_prob, draw_prob)\n            if max_prob == home_win_prob:\n                predictions.append(2)\n            elif max_prob == away_win_prob:\n                predictions.append(0)\n            else:\n                predictions.append(1)\n\n    return predictions",
      "outputs": []
    },
    {
      "id": "6694b1db-a6fd-4089-8d0c-27366621a5bd",
      "cell_type": "code",
      "metadata": {
        "noteable": {
          "cell_type": "code",
          "output_collection_id": "235837a5-9e9f-41e7-b453-852bff2183b9"
        },
        "ExecuteTime": {
          "end_time": "2023-07-10T09:13:54.815194+00:00",
          "start_time": "2023-07-10T09:13:54.583036+00:00"
        }
      },
      "execution_count": null,
      "source": "# Predict the outcomes for the test data using the weighted prediction function\ny_pred_weighted = predict_outcome_weighted(X_test)\n\n# Calculate the accuracy of the weighted predictions\naccuracy_weighted = accuracy_score(y_test, y_pred_weighted)\naccuracy_weighted",
      "outputs": []
    }
  ]
}